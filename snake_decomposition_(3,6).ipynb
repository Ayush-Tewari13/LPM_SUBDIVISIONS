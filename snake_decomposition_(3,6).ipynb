{
 "cells": [
  {
   "cell_type": "code",
   "execution_count": 1,
   "metadata": {},
   "outputs": [],
   "source": [
    "$p = hypersimplex(3,6);\n",
    "$points = $p->VERTICES;"
   ]
  },
  {
   "cell_type": "markdown",
   "metadata": {},
   "source": [
    "# Maximal cells of the subdivision into snakes for U_{3,6}\n",
    "\n",
    "L_{1} = {123,124,125,126,134,135,136,234,235,236} = [0,1,2,3,4,5,6,10,11,12]\n",
    "\n",
    "L_{2} = {124,125,126,134,135,136,145,146,234,235,236,245,246} = [1,2,3,4,5,6,7,8,10,11,12,13,14]\n",
    "\n",
    "L_{3} = {125,126,135,136,145,146,156,235,236,245,246,256} = [2,3,5,6,7,8,9,11,12,13,14,15]\n",
    "\n",
    "L_{4} = {134,135,136,145,146,234,235,236,245,246,345,346} = [4,5,6,7,8,10,11,12,13,14,16,17]\n",
    "\n",
    "L_{5} = {135,136,145,146,156,235,236,245,246,256,345,346,356} = [5,6,7,8,9,11,12,13,14,15,16,17,18]\n",
    "\n",
    "L_{6} = {145,146,156,245,246,256,345,346,356,456} = [7,8,9,13,14,15,16,17,18,19]\n",
    "\n",
    "123=0,124=1,125=2,126=3,134=4,135=5,136=6,145=7,146=8,156=9,234=10,235=11,236=12,245=13,246=14,256=15,345=16,346=17,356=18,456=19\n"
   ]
  },
  {
   "cell_type": "markdown",
   "metadata": {},
   "source": [
    "The is_regular() command checks regularity of a given subdivision, and if found to be regular returns a weight vector which induces this subdivision."
   ]
  },
  {
   "cell_type": "code",
   "execution_count": 3,
   "metadata": {},
   "outputs": [
    {
     "data": {
      "text/plain": [
       "1 <0 0 0 0 0 0 0 1/4 1/4 1/2 0 0 0 1/4 1/4 1/2 1/2 1/2 3/4 5/4>"
      ]
     },
     "execution_count": 3,
     "metadata": {},
     "output_type": "execute_result"
    },
    {
     "data": {
      "text/html": [
       "<details><summary><pre style=\"display:inline\"><small>Click here for additional output</small></pre></summary>\n",
       "<pre>\n",
       "polymake: used package ppl\n",
       "  The Parma Polyhedra Library ([[wiki:external_software#PPL]]): A C++ library for convex polyhedra\n",
       "  and other numerical abstractions.\n",
       "  http://www.cs.unipr.it/ppl/\n",
       "\n",
       "</pre>\n",
       "</details>\n"
      ]
     },
     "metadata": {},
     "output_type": "display_data"
    }
   ],
   "source": [
    "print is_regular($points,[[0,1,2,3,4,5,6,10,11,12],[1,2,3,4,5,6,7,8,10,11,12,13,14],[2,3,5,6,7,8,9,11,12,13,14,15],[4,5,6,7,8,10,11,12,13,14,16,17],[5,6,7,8,9,11,12,13,14,15,16,17,18],[7,8,9,13,14,15,16,17,18,19]]);"
   ]
  },
  {
   "cell_type": "code",
   "execution_count": null,
   "metadata": {},
   "outputs": [],
   "source": []
  }
 ],
 "metadata": {
  "kernelspec": {
   "display_name": "polymake-4.5",
   "language": "polymake",
   "name": "polymake"
  },
  "language_info": {
   "codemirror_mode": "perl",
   "file_extension": ".pl",
   "mimetype": "text/x-polymake",
   "name": "polymake"
  }
 },
 "nbformat": 4,
 "nbformat_minor": 4
}
